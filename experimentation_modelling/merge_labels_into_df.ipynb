{
 "cells": [
  {
   "cell_type": "code",
   "execution_count": 60,
   "metadata": {},
   "outputs": [],
   "source": [
    "import pandas as pd"
   ]
  },
  {
   "cell_type": "code",
   "execution_count": 104,
   "metadata": {},
   "outputs": [],
   "source": [
    "fname = \"data/orig_src/hackathon_crisis_labels.csv\"\n",
    "df2 = pd.read_csv(fname)"
   ]
  },
  {
   "cell_type": "code",
   "execution_count": 105,
   "metadata": {},
   "outputs": [],
   "source": [
    "fname = \"data/acled_social_iso3.csv\"\n",
    "df3 = pd.read_csv(fname, index_col=[0, 1])"
   ]
  },
  {
   "cell_type": "code",
   "execution_count": 106,
   "metadata": {},
   "outputs": [],
   "source": [
    "fname = \"data/acled_social_iso3_timelag.csv\"\n",
    "df4 = pd.read_csv(fname)"
   ]
  },
  {
   "cell_type": "code",
   "execution_count": 107,
   "metadata": {},
   "outputs": [],
   "source": [
    "# set up new df:\n",
    "df_new = pd.DataFrame()\n",
    "df_new['EVENT_DATE_MONTH'] = [\"-\".join(x[:2]) for x in df2['month'].str.split('-')]\n",
    "df_new['iso3'] = df2['iso3']\n",
    "df_new['battle_case'] = df2['battle_case']\n",
    "df_new['protest_riots_case'] = df2['protest_riots_case']"
   ]
  },
  {
   "cell_type": "code",
   "execution_count": 108,
   "metadata": {},
   "outputs": [],
   "source": [
    "# merge both dfs:\n",
    "df_merged = df3.merge(df_new, on=['iso3', 'EVENT_DATE_MONTH'])"
   ]
  },
  {
   "cell_type": "code",
   "execution_count": 109,
   "metadata": {},
   "outputs": [],
   "source": [
    "df_merged = df_merged.drop(['FAT_bin'], axis=1)"
   ]
  },
  {
   "cell_type": "code",
   "execution_count": 110,
   "metadata": {},
   "outputs": [],
   "source": [
    "fname = \"data/acled_social_iso3_labeled.csv\"\n",
    "df_merged.to_csv(fname)"
   ]
  },
  {
   "cell_type": "code",
   "execution_count": 111,
   "metadata": {},
   "outputs": [],
   "source": [
    "df_merged2 = df4.merge(df_new, on=['iso3', 'EVENT_DATE_MONTH'])"
   ]
  },
  {
   "cell_type": "code",
   "execution_count": 112,
   "metadata": {},
   "outputs": [],
   "source": [
    "df_merged2 = df_merged2.drop(['FAT_bin', 'Unnamed: 0', 'Unnamed: 0.1', 'Unnamed: 0.1.1'], axis=1)"
   ]
  },
  {
   "cell_type": "code",
   "execution_count": 115,
   "metadata": {},
   "outputs": [],
   "source": [
    "df_merged2.rename(columns={'label': 'new_crisis_def'}, inplace=True)"
   ]
  },
  {
   "cell_type": "code",
   "execution_count": 116,
   "metadata": {},
   "outputs": [
    {
     "name": "stdout",
     "output_type": "stream",
     "text": [
      "<class 'pandas.core.frame.DataFrame'>\n",
      "Int64Index: 5506 entries, 0 to 5505\n",
      "Data columns (total 51 columns):\n",
      "EVENT_DATE_MONTH                                     5506 non-null object\n",
      "COUNTRY                                              5506 non-null object\n",
      "Battles                                              5506 non-null float64\n",
      "Explosions/Remote violence                           5506 non-null float64\n",
      "Protests                                             5506 non-null float64\n",
      "Riots                                                5506 non-null float64\n",
      "Strategic developments                               5506 non-null float64\n",
      "Violence against civilians                           5506 non-null float64\n",
      "FATALITIES                                           5506 non-null float64\n",
      "YEAR                                                 5506 non-null float64\n",
      "Life expectancy at birth, total (years)              5506 non-null float64\n",
      "GDP (current US$)                                    5506 non-null float64\n",
      "Death rate, crude (per 1,000 people)                 5506 non-null float64\n",
      "Population growth (annual %)                         5506 non-null float64\n",
      "Urban population (% of total)                        5506 non-null float64\n",
      "Central government, Fiscal Balance (Current US $)    5506 non-null float64\n",
      "Population, Total                                    5506 non-null float64\n",
      "iso3                                                 5506 non-null object\n",
      "Battles_1_month_ago                                  5506 non-null float64\n",
      "Protests_1_month_ago                                 5506 non-null float64\n",
      "Explosions/Remote violence_1_month_ago               5506 non-null float64\n",
      "Strategic developments_1_month_ago                   5506 non-null float64\n",
      "Violence against civilians_1_month_ago               5506 non-null float64\n",
      "FATALITIES_1_month_ago                               5506 non-null float64\n",
      "Battles_2_month_ago                                  5506 non-null float64\n",
      "Protests_2_month_ago                                 5506 non-null float64\n",
      "Explosions/Remote violence_2_month_ago               5506 non-null float64\n",
      "Strategic developments_2_month_ago                   5506 non-null float64\n",
      "Violence against civilians_2_month_ago               5506 non-null float64\n",
      "FATALITIES_2_month_ago                               5506 non-null float64\n",
      "Battles_3_month_ago                                  5506 non-null float64\n",
      "Protests_3_month_ago                                 5506 non-null float64\n",
      "Explosions/Remote violence_3_month_ago               5506 non-null float64\n",
      "Strategic developments_3_month_ago                   5506 non-null float64\n",
      "Violence against civilians_3_month_ago               5506 non-null float64\n",
      "FATALITIES_3_month_ago                               5506 non-null float64\n",
      "Battles_4_month_ago                                  5506 non-null float64\n",
      "Protests_4_month_ago                                 5506 non-null float64\n",
      "Explosions/Remote violence_4_month_ago               5506 non-null float64\n",
      "Strategic developments_4_month_ago                   5506 non-null float64\n",
      "Violence against civilians_4_month_ago               5506 non-null float64\n",
      "FATALITIES_4_month_ago                               5506 non-null float64\n",
      "Battles_5_month_ago                                  5506 non-null float64\n",
      "Protests_5_month_ago                                 5506 non-null float64\n",
      "Explosions/Remote violence_5_month_ago               5506 non-null float64\n",
      "Strategic developments_5_month_ago                   5506 non-null float64\n",
      "Violence against civilians_5_month_ago               5506 non-null float64\n",
      "FATALITIES_5_month_ago                               5506 non-null float64\n",
      "new_crisis_def                                       5506 non-null float64\n",
      "battle_case                                          5505 non-null float64\n",
      "protest_riots_case                                   5506 non-null float64\n",
      "dtypes: float64(48), object(3)\n",
      "memory usage: 2.2+ MB\n"
     ]
    }
   ],
   "source": [
    "df_merged2.info()"
   ]
  },
  {
   "cell_type": "code",
   "execution_count": 117,
   "metadata": {},
   "outputs": [],
   "source": [
    "fname = \"data/acled_social_iso3_timelag_labeled.csv\"\n",
    "df_merged2.to_csv(fname)"
   ]
  },
  {
   "cell_type": "code",
   "execution_count": null,
   "metadata": {},
   "outputs": [],
   "source": []
  }
 ],
 "metadata": {
  "kernelspec": {
   "display_name": "Python 3",
   "language": "python",
   "name": "python3"
  },
  "language_info": {
   "codemirror_mode": {
    "name": "ipython",
    "version": 3
   },
   "file_extension": ".py",
   "mimetype": "text/x-python",
   "name": "python",
   "nbconvert_exporter": "python",
   "pygments_lexer": "ipython3",
   "version": "3.7.4"
  }
 },
 "nbformat": 4,
 "nbformat_minor": 4
}
