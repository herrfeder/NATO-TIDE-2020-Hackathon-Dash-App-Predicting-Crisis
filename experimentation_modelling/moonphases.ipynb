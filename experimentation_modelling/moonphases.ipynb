{
 "cells": [
  {
   "cell_type": "code",
   "execution_count": 14,
   "metadata": {},
   "outputs": [],
   "source": [
    "import pandas as pd\n",
    "import numpy as np\n",
    "import datetime\n",
    "from ephem import Moon\n",
    "import seaborn as sns"
   ]
  },
  {
   "cell_type": "code",
   "execution_count": 2,
   "metadata": {},
   "outputs": [],
   "source": [
    "fname = \"data/orig_src/Africa_1997-2020_Feb08.xlsx\"\n",
    "df = pd.read_excel(fname)"
   ]
  },
  {
   "cell_type": "code",
   "execution_count": 3,
   "metadata": {},
   "outputs": [
    {
     "data": {
      "text/plain": [
       "Index(['ISO', 'EVENT_ID_CNTY', 'EVENT_ID_NO_CNTY', 'EVENT_DATE', 'YEAR',\n",
       "       'TIME_PRECISION', 'EVENT_TYPE', 'SUB_EVENT_TYPE', 'ACTOR1',\n",
       "       'ASSOC_ACTOR_1', 'INTER1', 'ACTOR2', 'ASSOC_ACTOR_2', 'INTER2',\n",
       "       'INTERACTION', 'REGION', 'COUNTRY', 'ADMIN1', 'ADMIN2', 'ADMIN3',\n",
       "       'LOCATION', 'LATITUDE', 'LONGITUDE', 'GEO_PRECISION', 'SOURCE',\n",
       "       'SOURCE_SCALE', 'NOTES', 'FATALITIES', 'TIMESTAMP'],\n",
       "      dtype='object')"
      ]
     },
     "execution_count": 3,
     "metadata": {},
     "output_type": "execute_result"
    }
   ],
   "source": [
    "df.keys()"
   ]
  },
  {
   "cell_type": "code",
   "execution_count": 8,
   "metadata": {},
   "outputs": [],
   "source": [
    "dates = df['EVENT_DATE']\n"
   ]
  },
  {
   "cell_type": "code",
   "execution_count": 9,
   "metadata": {},
   "outputs": [
    {
     "data": {
      "text/plain": [
       "0        1997-01-01\n",
       "1        1997-01-02\n",
       "2        1997-01-03\n",
       "3        1997-01-04\n",
       "4        1997-01-05\n",
       "            ...    \n",
       "202052   2020-01-28\n",
       "202053   2020-01-31\n",
       "202054   2020-02-02\n",
       "202055   2020-02-02\n",
       "202056   2020-02-06\n",
       "Name: EVENT_DATE, Length: 202057, dtype: datetime64[ns]"
      ]
     },
     "execution_count": 9,
     "metadata": {},
     "output_type": "execute_result"
    }
   ],
   "source": [
    "dates"
   ]
  },
  {
   "cell_type": "code",
   "execution_count": 11,
   "metadata": {},
   "outputs": [],
   "source": [
    "phases = np.zeros(dates.size)\n",
    "for idx, date in enumerate(dates):\n",
    "    m = Moon(date)\n",
    "    phases[idx] = m.moon_phase"
   ]
  },
  {
   "cell_type": "code",
   "execution_count": 12,
   "metadata": {},
   "outputs": [
    {
     "data": {
      "text/plain": [
       "array([0.60490876, 0.50946874, 0.41114836, ..., 0.49480002, 0.49480002,\n",
       "       0.86185671])"
      ]
     },
     "execution_count": 12,
     "metadata": {},
     "output_type": "execute_result"
    }
   ],
   "source": [
    "phases"
   ]
  },
  {
   "cell_type": "code",
   "execution_count": 13,
   "metadata": {},
   "outputs": [],
   "source": [
    "df['Moon_phase'] = phases"
   ]
  },
  {
   "cell_type": "code",
   "execution_count": 17,
   "metadata": {},
   "outputs": [],
   "source": [
    "df['FATALITIES_normed'] = (df['FATALITIES'] - df['FATALITIES'].mean()) / df['FATALITIES'].std()"
   ]
  },
  {
   "cell_type": "code",
   "execution_count": 20,
   "metadata": {},
   "outputs": [
    {
     "data": {
      "text/html": [
       "<div>\n",
       "<style scoped>\n",
       "    .dataframe tbody tr th:only-of-type {\n",
       "        vertical-align: middle;\n",
       "    }\n",
       "\n",
       "    .dataframe tbody tr th {\n",
       "        vertical-align: top;\n",
       "    }\n",
       "\n",
       "    .dataframe thead th {\n",
       "        text-align: right;\n",
       "    }\n",
       "</style>\n",
       "<table border=\"1\" class=\"dataframe\">\n",
       "  <thead>\n",
       "    <tr style=\"text-align: right;\">\n",
       "      <th></th>\n",
       "      <th>ISO</th>\n",
       "      <th>EVENT_ID_CNTY</th>\n",
       "      <th>EVENT_ID_NO_CNTY</th>\n",
       "      <th>EVENT_DATE</th>\n",
       "      <th>YEAR</th>\n",
       "      <th>TIME_PRECISION</th>\n",
       "      <th>EVENT_TYPE</th>\n",
       "      <th>SUB_EVENT_TYPE</th>\n",
       "      <th>ACTOR1</th>\n",
       "      <th>ASSOC_ACTOR_1</th>\n",
       "      <th>...</th>\n",
       "      <th>LATITUDE</th>\n",
       "      <th>LONGITUDE</th>\n",
       "      <th>GEO_PRECISION</th>\n",
       "      <th>SOURCE</th>\n",
       "      <th>SOURCE_SCALE</th>\n",
       "      <th>NOTES</th>\n",
       "      <th>FATALITIES</th>\n",
       "      <th>TIMESTAMP</th>\n",
       "      <th>Moon_phase</th>\n",
       "      <th>FATALITIES_normed</th>\n",
       "    </tr>\n",
       "  </thead>\n",
       "  <tbody>\n",
       "    <tr>\n",
       "      <td>255</td>\n",
       "      <td>12</td>\n",
       "      <td>ALG256</td>\n",
       "      <td>256</td>\n",
       "      <td>2000-01-02</td>\n",
       "      <td>2000</td>\n",
       "      <td>1</td>\n",
       "      <td>Violence against civilians</td>\n",
       "      <td>Attack</td>\n",
       "      <td>GIA: Armed Islamic Group</td>\n",
       "      <td>NaN</td>\n",
       "      <td>...</td>\n",
       "      <td>36.590</td>\n",
       "      <td>2.448</td>\n",
       "      <td>1</td>\n",
       "      <td>Reuters</td>\n",
       "      <td>International</td>\n",
       "      <td>Jan 4 (Reuters) - Radical Moslem rebels shot d...</td>\n",
       "      <td>6</td>\n",
       "      <td>1552577666</td>\n",
       "      <td>0.191606</td>\n",
       "      <td>0.071038</td>\n",
       "    </tr>\n",
       "    <tr>\n",
       "      <td>256</td>\n",
       "      <td>12</td>\n",
       "      <td>ALG257</td>\n",
       "      <td>257</td>\n",
       "      <td>2000-01-04</td>\n",
       "      <td>2000</td>\n",
       "      <td>1</td>\n",
       "      <td>Battles</td>\n",
       "      <td>Armed clash</td>\n",
       "      <td>Police Forces of Algeria (1999-)</td>\n",
       "      <td>NaN</td>\n",
       "      <td>...</td>\n",
       "      <td>36.165</td>\n",
       "      <td>1.334</td>\n",
       "      <td>1</td>\n",
       "      <td>All Africa</td>\n",
       "      <td>Regional</td>\n",
       "      <td>11 Jan 2000 BBC Mon-three militants were kille...</td>\n",
       "      <td>3</td>\n",
       "      <td>1552577666</td>\n",
       "      <td>0.067989</td>\n",
       "      <td>-0.016531</td>\n",
       "    </tr>\n",
       "    <tr>\n",
       "      <td>257</td>\n",
       "      <td>12</td>\n",
       "      <td>ALG258</td>\n",
       "      <td>258</td>\n",
       "      <td>2000-01-04</td>\n",
       "      <td>2000</td>\n",
       "      <td>1</td>\n",
       "      <td>Battles</td>\n",
       "      <td>Armed clash</td>\n",
       "      <td>Military Forces of Algeria (1999-)</td>\n",
       "      <td>NaN</td>\n",
       "      <td>...</td>\n",
       "      <td>35.376</td>\n",
       "      <td>1.313</td>\n",
       "      <td>1</td>\n",
       "      <td>All Africa</td>\n",
       "      <td>Regional</td>\n",
       "      <td>12 Jan 2000 BBC Mon-The military offensive tha...</td>\n",
       "      <td>1</td>\n",
       "      <td>1552577666</td>\n",
       "      <td>0.067989</td>\n",
       "      <td>-0.074910</td>\n",
       "    </tr>\n",
       "    <tr>\n",
       "      <td>258</td>\n",
       "      <td>12</td>\n",
       "      <td>ALG259</td>\n",
       "      <td>259</td>\n",
       "      <td>2000-01-05</td>\n",
       "      <td>2000</td>\n",
       "      <td>1</td>\n",
       "      <td>Battles</td>\n",
       "      <td>Armed clash</td>\n",
       "      <td>Military Forces of Algeria (1999-)</td>\n",
       "      <td>NaN</td>\n",
       "      <td>...</td>\n",
       "      <td>35.376</td>\n",
       "      <td>1.313</td>\n",
       "      <td>1</td>\n",
       "      <td>All Africa</td>\n",
       "      <td>Regional</td>\n",
       "      <td>12 Jan 2000 BBC Mon-The military offensive tha...</td>\n",
       "      <td>1</td>\n",
       "      <td>1552577666</td>\n",
       "      <td>0.028386</td>\n",
       "      <td>-0.074910</td>\n",
       "    </tr>\n",
       "    <tr>\n",
       "      <td>259</td>\n",
       "      <td>12</td>\n",
       "      <td>ALG260</td>\n",
       "      <td>260</td>\n",
       "      <td>2000-01-06</td>\n",
       "      <td>2000</td>\n",
       "      <td>1</td>\n",
       "      <td>Battles</td>\n",
       "      <td>Armed clash</td>\n",
       "      <td>Military Forces of Algeria (1999-)</td>\n",
       "      <td>NaN</td>\n",
       "      <td>...</td>\n",
       "      <td>35.376</td>\n",
       "      <td>1.313</td>\n",
       "      <td>1</td>\n",
       "      <td>All Africa</td>\n",
       "      <td>Regional</td>\n",
       "      <td>12 Jan 2000 BBC Mon-The military offensive tha...</td>\n",
       "      <td>1</td>\n",
       "      <td>1552577666</td>\n",
       "      <td>0.005611</td>\n",
       "      <td>-0.074910</td>\n",
       "    </tr>\n",
       "  </tbody>\n",
       "</table>\n",
       "<p>5 rows × 31 columns</p>\n",
       "</div>"
      ],
      "text/plain": [
       "     ISO EVENT_ID_CNTY  EVENT_ID_NO_CNTY EVENT_DATE  YEAR  TIME_PRECISION  \\\n",
       "255   12        ALG256               256 2000-01-02  2000               1   \n",
       "256   12        ALG257               257 2000-01-04  2000               1   \n",
       "257   12        ALG258               258 2000-01-04  2000               1   \n",
       "258   12        ALG259               259 2000-01-05  2000               1   \n",
       "259   12        ALG260               260 2000-01-06  2000               1   \n",
       "\n",
       "                     EVENT_TYPE SUB_EVENT_TYPE  \\\n",
       "255  Violence against civilians         Attack   \n",
       "256                     Battles    Armed clash   \n",
       "257                     Battles    Armed clash   \n",
       "258                     Battles    Armed clash   \n",
       "259                     Battles    Armed clash   \n",
       "\n",
       "                                 ACTOR1 ASSOC_ACTOR_1  ...  LATITUDE  \\\n",
       "255            GIA: Armed Islamic Group           NaN  ...    36.590   \n",
       "256    Police Forces of Algeria (1999-)           NaN  ...    36.165   \n",
       "257  Military Forces of Algeria (1999-)           NaN  ...    35.376   \n",
       "258  Military Forces of Algeria (1999-)           NaN  ...    35.376   \n",
       "259  Military Forces of Algeria (1999-)           NaN  ...    35.376   \n",
       "\n",
       "    LONGITUDE GEO_PRECISION      SOURCE   SOURCE_SCALE  \\\n",
       "255     2.448             1     Reuters  International   \n",
       "256     1.334             1  All Africa       Regional   \n",
       "257     1.313             1  All Africa       Regional   \n",
       "258     1.313             1  All Africa       Regional   \n",
       "259     1.313             1  All Africa       Regional   \n",
       "\n",
       "                                                 NOTES FATALITIES   TIMESTAMP  \\\n",
       "255  Jan 4 (Reuters) - Radical Moslem rebels shot d...          6  1552577666   \n",
       "256  11 Jan 2000 BBC Mon-three militants were kille...          3  1552577666   \n",
       "257  12 Jan 2000 BBC Mon-The military offensive tha...          1  1552577666   \n",
       "258  12 Jan 2000 BBC Mon-The military offensive tha...          1  1552577666   \n",
       "259  12 Jan 2000 BBC Mon-The military offensive tha...          1  1552577666   \n",
       "\n",
       "    Moon_phase FATALITIES_normed  \n",
       "255   0.191606          0.071038  \n",
       "256   0.067989         -0.016531  \n",
       "257   0.067989         -0.074910  \n",
       "258   0.028386         -0.074910  \n",
       "259   0.005611         -0.074910  \n",
       "\n",
       "[5 rows x 31 columns]"
      ]
     },
     "execution_count": 20,
     "metadata": {},
     "output_type": "execute_result"
    }
   ],
   "source": [
    "df2000 = df[df['YEAR'] == 2000]\n",
    "df2000.head()"
   ]
  },
  {
   "cell_type": "code",
   "execution_count": 21,
   "metadata": {},
   "outputs": [
    {
     "data": {
      "text/plain": [
       "<matplotlib.axes._subplots.AxesSubplot at 0x11f4970d0>"
      ]
     },
     "execution_count": 21,
     "metadata": {},
     "output_type": "execute_result"
    },
    {
     "data": {
      "image/png": "[encoded data removed]",
      "text/plain": [
       "<Figure size 432x288 with 1 Axes>"
      ]
     },
     "metadata": {
      "needs_background": "light"
     },
     "output_type": "display_data"
    }
   ],
   "source": [
    "sns.lineplot(x='EVENT_DATE', y='FATALITIES_normed', data=df2000, color='red')\n",
    "sns.lineplot(x='EVENT_DATE', y='Moon_phase', data=df2000, color='blue')"
   ]
  },
  {
   "cell_type": "code",
   "execution_count": 22,
   "metadata": {},
   "outputs": [],
   "source": [
    "df2005 = df[df['YEAR'] == 2005]"
   ]
  },
  {
   "cell_type": "code",
   "execution_count": 36,
   "metadata": {},
   "outputs": [
    {
     "data": {
      "image/png": "[encoded data removed]",
      "text/plain": [
       "<Figure size 432x288 with 1 Axes>"
      ]
     },
     "metadata": {
      "needs_background": "light"
     },
     "output_type": "display_data"
    }
   ],
   "source": [
    "df_plot = df2005[['EVENT_DATE', 'FATALITIES_normed', 'Moon_phase']]\n",
    "sns_fig = sns.lineplot(x='EVENT_DATE', y='value', hue='variable', data=pd.melt(df_plot, ['EVENT_DATE']))\n",
    "fig = sns_fig.get_figure()\n",
    "fig.savefig('test.pdf')"
   ]
  },
  {
   "cell_type": "code",
   "execution_count": 55,
   "metadata": {},
   "outputs": [
    {
     "name": "stdout",
     "output_type": "stream",
     "text": [
      "1997\n",
      "1998\n",
      "1999\n",
      "2000\n",
      "2001\n",
      "2002\n",
      "2003\n",
      "2004\n",
      "2005\n",
      "2006\n",
      "2007\n",
      "2008\n",
      "2009\n",
      "2010\n",
      "2011\n",
      "2012\n",
      "2013\n",
      "2014\n",
      "2015\n",
      "2016\n",
      "2017\n",
      "2018\n",
      "2019\n",
      "2020\n"
     ]
    },
    {
     "data": {
      "text/plain": [
       "<Figure size 432x288 with 0 Axes>"
      ]
     },
     "metadata": {},
     "output_type": "display_data"
    }
   ],
   "source": [
    "for year in df['YEAR'].unique():\n",
    "    print(year)\n",
    "    df_tmp = df[df['YEAR'] == year]\n",
    "    \n",
    "    #df_tmp = df_tmp[df_tmp['COUNTRY'] == 'Angola']\n",
    "    #print(df_tmp.keys())\n",
    "    #corr1 = df_tmp.corr(method='pearson')\n",
    "    #print(np.abs(corr1['Moon_phase'].sort_values(ascending=False)))\n",
    "    #corr2 = df_tmp.corr(method='kendall')\n",
    "    #print(np.abs(corr2['Moon_phase'].sort_values(ascending=False)))\n",
    "    #corr3 = df_tmp.corr(method='spearman')\n",
    "    #print(np.abs(corr3['Moon_phase'].sort_values(ascending=False)))\n",
    "    \n",
    "    df_plot = df_tmp[['EVENT_DATE', 'FATALITIES_normed', 'Moon_phase']]\n",
    "    sns_fig = sns.lineplot(x='EVENT_DATE', y='value', hue='variable', data=pd.melt(df_plot, ['EVENT_DATE']))\n",
    "    sns_fig.set(ylim=(-.5, 25.))\n",
    "    fig = sns_fig.get_figure()\n",
    "    fname = \"plots/fatalities_vs_moon_year{:}.pdf\".format(year)\n",
    "    fig.savefig(fname)\n",
    "    fig.clear()"
   ]
  },
  {
   "cell_type": "code",
   "execution_count": null,
   "metadata": {},
   "outputs": [],
   "source": []
  }
 ],
 "metadata": {
  "kernelspec": {
   "display_name": "Python 3",
   "language": "python",
   "name": "python3"
  },
  "language_info": {
   "codemirror_mode": {
    "name": "ipython",
    "version": 3
   },
   "file_extension": ".py",
   "mimetype": "text/x-python",
   "name": "python",
   "nbconvert_exporter": "python",
   "pygments_lexer": "ipython3",
   "version": "3.7.4"
  }
 },
 "nbformat": 4,
 "nbformat_minor": 4
}
