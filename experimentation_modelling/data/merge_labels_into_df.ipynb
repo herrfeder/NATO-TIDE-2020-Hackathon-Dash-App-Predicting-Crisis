{
 "cells": [
  {
   "cell_type": "code",
   "execution_count": 60,
   "metadata": {},
   "outputs": [],
   "source": [
    "import pandas as pd"
   ]
  },
  {
   "cell_type": "code",
   "execution_count": 62,
   "metadata": {},
   "outputs": [],
   "source": [
    "fname = \"hackathon_crisis_labels.csv\"\n",
    "df2 = pd.read_csv(fname)"
   ]
  },
  {
   "cell_type": "code",
   "execution_count": 68,
   "metadata": {},
   "outputs": [],
   "source": [
    "fname = \"acled_social_iso3.csv\"\n",
    "df3 = pd.read_csv(fname, index_col=[0, 1])"
   ]
  },
  {
   "cell_type": "code",
   "execution_count": 97,
   "metadata": {},
   "outputs": [],
   "source": [
    "fname = \"acled_social_iso3_timelag.csv\"\n",
    "df4 = pd.read_csv(fname)"
   ]
  },
  {
   "cell_type": "code",
   "execution_count": 89,
   "metadata": {},
   "outputs": [
    {
     "data": {
      "text/plain": [
       "Index(['Unnamed: 0', 'Unnamed: 0.1', 'Unnamed: 0.1.1', 'EVENT_DATE_MONTH',\n",
       "       'COUNTRY', 'Battles', 'Explosions/Remote violence', 'Protests', 'Riots',\n",
       "       'Strategic developments', 'Violence against civilians', 'FATALITIES',\n",
       "       'YEAR', 'Life expectancy at birth, total (years)', 'GDP (current US$)',\n",
       "       'Death rate, crude (per 1,000 people)', 'Population growth (annual %)',\n",
       "       'Urban population (% of total)',\n",
       "       'Central government, Fiscal Balance (Current US $)',\n",
       "       'Population, Total', 'iso3', 'FAT_bin', 'Battles_1_month_ago',\n",
       "       'Protests_1_month_ago', 'Explosions/Remote violence_1_month_ago',\n",
       "       'Strategic developments_1_month_ago',\n",
       "       'Violence against civilians_1_month_ago', 'FATALITIES_1_month_ago',\n",
       "       'Battles_2_month_ago', 'Protests_2_month_ago',\n",
       "       'Explosions/Remote violence_2_month_ago',\n",
       "       'Strategic developments_2_month_ago',\n",
       "       'Violence against civilians_2_month_ago', 'FATALITIES_2_month_ago',\n",
       "       'Battles_3_month_ago', 'Protests_3_month_ago',\n",
       "       'Explosions/Remote violence_3_month_ago',\n",
       "       'Strategic developments_3_month_ago',\n",
       "       'Violence against civilians_3_month_ago', 'FATALITIES_3_month_ago',\n",
       "       'Battles_4_month_ago', 'Protests_4_month_ago',\n",
       "       'Explosions/Remote violence_4_month_ago',\n",
       "       'Strategic developments_4_month_ago',\n",
       "       'Violence against civilians_4_month_ago', 'FATALITIES_4_month_ago',\n",
       "       'Battles_5_month_ago', 'Protests_5_month_ago',\n",
       "       'Explosions/Remote violence_5_month_ago',\n",
       "       'Strategic developments_5_month_ago',\n",
       "       'Violence against civilians_5_month_ago', 'FATALITIES_5_month_ago',\n",
       "       'label'],\n",
       "      dtype='object')"
      ]
     },
     "execution_count": 89,
     "metadata": {},
     "output_type": "execute_result"
    }
   ],
   "source": [
    "df4.head()\n",
    "df4.keys()"
   ]
  },
  {
   "cell_type": "code",
   "execution_count": 64,
   "metadata": {},
   "outputs": [
    {
     "data": {
      "text/plain": [
       "Index(['month', 'iso3', 'country', 'battle_case', 'protest_riots_case'], dtype='object')"
      ]
     },
     "execution_count": 64,
     "metadata": {},
     "output_type": "execute_result"
    }
   ],
   "source": [
    "df2.head()\n",
    "df2.keys()"
   ]
  },
  {
   "cell_type": "code",
   "execution_count": 70,
   "metadata": {},
   "outputs": [],
   "source": [
    "# set up new df:\n",
    "df_new = pd.DataFrame()\n",
    "df_new['EVENT_DATE_MONTH'] = [\"-\".join(x[:2]) for x in df2['month'].str.split('-')]\n",
    "df_new['iso3'] = df2['iso3']\n",
    "df_new['battle_case'] = df2['battle_case']\n",
    "df_new['protest_riots_case'] = df2['protest_riots_case']"
   ]
  },
  {
   "cell_type": "code",
   "execution_count": 71,
   "metadata": {},
   "outputs": [
    {
     "name": "stdout",
     "output_type": "stream",
     "text": [
      "<class 'pandas.core.frame.DataFrame'>\n",
      "MultiIndex: 8773 entries, (0, 0) to (8772, 8772)\n",
      "Data columns (total 19 columns):\n",
      "EVENT_DATE_MONTH                                     8773 non-null object\n",
      "COUNTRY                                              8773 non-null object\n",
      "Battles                                              8773 non-null float64\n",
      "Explosions/Remote violence                           8773 non-null float64\n",
      "Protests                                             8773 non-null float64\n",
      "Riots                                                8773 non-null float64\n",
      "Strategic developments                               8773 non-null float64\n",
      "Violence against civilians                           8773 non-null float64\n",
      "FATALITIES                                           8773 non-null int64\n",
      "YEAR                                                 8773 non-null int64\n",
      "Life expectancy at birth, total (years)              8773 non-null float64\n",
      "GDP (current US$)                                    8773 non-null float64\n",
      "Death rate, crude (per 1,000 people)                 8773 non-null float64\n",
      "Population growth (annual %)                         8773 non-null float64\n",
      "Urban population (% of total)                        8773 non-null float64\n",
      "Central government, Fiscal Balance (Current US $)    8773 non-null float64\n",
      "Population, Total                                    8773 non-null float64\n",
      "iso3                                                 8773 non-null object\n",
      "FAT_bin                                              5671 non-null float64\n",
      "dtypes: float64(14), int64(2), object(3)\n",
      "memory usage: 1.4+ MB\n"
     ]
    }
   ],
   "source": [
    "df3.head()\n",
    "df3.keys()\n",
    "df3.info()"
   ]
  },
  {
   "cell_type": "code",
   "execution_count": 72,
   "metadata": {},
   "outputs": [
    {
     "name": "stdout",
     "output_type": "stream",
     "text": [
      "<class 'pandas.core.frame.DataFrame'>\n",
      "RangeIndex: 35501 entries, 0 to 35500\n",
      "Data columns (total 4 columns):\n",
      "EVENT_DATE_MONTH      35501 non-null object\n",
      "iso3                  35501 non-null object\n",
      "battle_case           14033 non-null float64\n",
      "protest_riots_case    35501 non-null float64\n",
      "dtypes: float64(2), object(2)\n",
      "memory usage: 1.1+ MB\n"
     ]
    }
   ],
   "source": [
    "df_new.info()"
   ]
  },
  {
   "cell_type": "code",
   "execution_count": 73,
   "metadata": {},
   "outputs": [],
   "source": [
    "# merge both dfs:\n",
    "df_merged = df3.merge(df_new, on=['iso3', 'EVENT_DATE_MONTH'])"
   ]
  },
  {
   "cell_type": "code",
   "execution_count": 77,
   "metadata": {},
   "outputs": [],
   "source": [
    "df_merged = df_merged.drop(['FAT_bin'], axis=1)"
   ]
  },
  {
   "cell_type": "code",
   "execution_count": 78,
   "metadata": {},
   "outputs": [],
   "source": [
    "fname = \"acled_social_iso3_labeled.csv\"\n",
    "df_merged.to_csv(fname)"
   ]
  },
  {
   "cell_type": "code",
   "execution_count": 98,
   "metadata": {},
   "outputs": [],
   "source": [
    "df_merged2 = df4.merge(df_new, on=['iso3', 'EVENT_DATE_MONTH'])"
   ]
  },
  {
   "cell_type": "code",
   "execution_count": 99,
   "metadata": {},
   "outputs": [],
   "source": [
    "df_merged2 = df_merged2.drop(['FAT_bin', 'label', 'Unnamed: 0', 'Unnamed: 0.1', 'Unnamed: 0.1.1'], axis=1)"
   ]
  },
  {
   "cell_type": "code",
   "execution_count": 100,
   "metadata": {},
   "outputs": [],
   "source": [
    "fname = \"acled_social_iso3_timelag_labeled.csv\"\n",
    "df_merged2.to_csv(fname)"
   ]
  },
  {
   "cell_type": "code",
   "execution_count": null,
   "metadata": {},
   "outputs": [],
   "source": []
  }
 ],
 "metadata": {
  "kernelspec": {
   "display_name": "Python 3",
   "language": "python",
   "name": "python3"
  },
  "language_info": {
   "codemirror_mode": {
    "name": "ipython",
    "version": 3
   },
   "file_extension": ".py",
   "mimetype": "text/x-python",
   "name": "python",
   "nbconvert_exporter": "python",
   "pygments_lexer": "ipython3",
   "version": "3.7.4"
  }
 },
 "nbformat": 4,
 "nbformat_minor": 4
}
